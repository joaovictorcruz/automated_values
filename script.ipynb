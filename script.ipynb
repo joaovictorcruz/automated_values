{
 "cells": [
  {
   "cell_type": "code",
   "execution_count": null,
   "metadata": {},
   "outputs": [],
   "source": [
    "import pandas as pd\n",
    "from openpyxl import load_workbook\n",
    "\n",
    "# Carregar os arquivos\n",
    "banco_df = pd.read_excel(\"./arquivos_excel/PrimeiroArquivo.xlsx\", sheet_name=\"Sheet1\")\n",
    "relatorio_df = pd.read_excel(\"./arquivos_excel/SegundoArquivo.xlsx\", sheet_name=\"LIQUIDOS\", header=7)\n",
    "\n",
    "# Limpar espaços em branco (caso tenha caracteres invisíveis)\n",
    "relatorio_df[\"Nome\"] = relatorio_df[\"Nome\"].astype(str).str.strip()\n",
    "banco_df[\"Titular da Conta / Account Name\"] = banco_df[\"Titular da Conta / Account Name\"].astype(str).str.strip()\n",
    "\n",
    "# Abrir o arquivo original com openpyxl para manter a formatação\n",
    "wb = load_workbook(\"./arquivos_excel/PrimeiroArquivo.xlsx\")\n",
    "ws = wb[\"Sheet1\"]\n",
    "\n",
    "# Encontrar o índice da coluna \"Valor / Amount (BRL)\" dinamicamente\n",
    "coluna_valor = None\n",
    "for col_num, col_name in enumerate(banco_df.columns, start=1):  \n",
    "    if \"Valor\" in col_name:  # Busca por \"Valor\" para garantir que seja a coluna certa\n",
    "        coluna_valor = col_num\n",
    "        break\n",
    "\n",
    "if coluna_valor is None:\n",
    "    raise ValueError(\"A coluna 'Valor / Amount (BRL)' não foi encontrada na planilha!\")\n",
    "\n",
    "# Atualizar os valores na planilha original\n",
    "for index, row in banco_df.iterrows():\n",
    "    nome = row[\"Titular da Conta / Account Name\"]\n",
    "    valor = relatorio_df.loc[relatorio_df[\"Nome\"] == nome, \"Valor\"].values\n",
    "    if len(valor) > 0:\n",
    "        # Atualizar a célula correta na coluna identificada\n",
    "        cell = ws.cell(row=index + 2, column=coluna_valor)\n",
    "        cell.value = valor[0]\n",
    "\n",
    "# Salvar sem perder a formatação\n",
    "wb.save(\"./arquivos_atualizados/ArquivoAtualizado.xlsx\")\n",
    "\n",
    "print(\"Planilha atualizada,\")\n",
    "print(\"Você pode verificar os valores vem verify.ipynb!\")"
   ]
  },
  {
   "cell_type": "code",
   "execution_count": null,
   "metadata": {},
   "outputs": [],
   "source": []
  }
 ],
 "metadata": {
  "kernelspec": {
   "display_name": "Python 3",
   "language": "python",
   "name": "python3"
  },
  "language_info": {
   "codemirror_mode": {
    "name": "ipython",
    "version": 3
   },
   "file_extension": ".py",
   "mimetype": "text/x-python",
   "name": "python",
   "nbconvert_exporter": "python",
   "pygments_lexer": "ipython3",
   "version": "3.12.4"
  }
 },
 "nbformat": 4,
 "nbformat_minor": 2
}
